{
 "cells": [
  {
   "cell_type": "markdown",
   "id": "3fdb72c0",
   "metadata": {},
   "source": [
    "# AAE 722 — Lab 2 Starter Notebook\n",
    "\n",
    "**Instructions:**  \n",
    "- Each question below has its own **clearly labeled** section.  \n",
    "- Write your code in the provided code cell under each heading.  \n",
    "- Do **not** delete the headings; graders rely on them.  \n",
    "- When finished, run all cells and push this `.ipynb` to your course GitHub repo.  \n",
    "- Then submit the **direct link** to this notebook file on Canvas.\n"
   ]
  },
  {
   "cell_type": "markdown",
   "id": "f00164e9",
   "metadata": {},
   "source": [
    "## Q1 — Python Lists and Tuples"
   ]
  },
  {
   "cell_type": "code",
   "execution_count": 10,
   "id": "a5edc731",
   "metadata": {},
   "outputs": [
    {
     "name": "stdout",
     "output_type": "stream",
     "text": [
      "[10, 90, 30]\n"
     ]
    },
    {
     "ename": "TypeError",
     "evalue": "'tuple' object does not support item assignment",
     "output_type": "error",
     "traceback": [
      "\u001b[0;31m---------------------------------------------------------------------------\u001b[0m",
      "\u001b[0;31mTypeError\u001b[0m                                 Traceback (most recent call last)",
      "Cell \u001b[0;32mIn[10], line 8\u001b[0m\n\u001b[1;32m      6\u001b[0m \u001b[38;5;66;03m# Q1: Create a tuple (1, 2, 3) and try to change the first element; note the error message.\u001b[39;00m\n\u001b[1;32m      7\u001b[0m t \u001b[38;5;241m=\u001b[39m (\u001b[38;5;241m1\u001b[39m, \u001b[38;5;241m2\u001b[39m, \u001b[38;5;241m3\u001b[39m)\n\u001b[0;32m----> 8\u001b[0m t[\u001b[38;5;241m0\u001b[39m] \u001b[38;5;241m=\u001b[39m \u001b[38;5;241m10\u001b[39m\n",
      "\u001b[0;31mTypeError\u001b[0m: 'tuple' object does not support item assignment"
     ]
    }
   ],
   "source": [
    "# Q1: Create a list numbers = [10, 20, 30], change the second element to 99, and print.\n",
    "numbers = [10, 20, 30]\n",
    "numbers[1]=90\n",
    "print(numbers)\n",
    "\n",
    "# Q1: Create a tuple (1, 2, 3) and try to change the first element; note the error message.\n",
    "t = (1, 2, 3)\n",
    "t[0] = 10   # TypeError: 'tuple' object does not support item assignment\n",
    "\n"
   ]
  },
  {
   "cell_type": "markdown",
   "id": "8e06f0d6",
   "metadata": {},
   "source": [
    "## Q2 — NumPy Arrays"
   ]
  },
  {
   "cell_type": "code",
   "execution_count": 3,
   "id": "3506e168",
   "metadata": {},
   "outputs": [
    {
     "name": "stdout",
     "output_type": "stream",
     "text": [
      "(2, 3)\n",
      "[[3 4 5]\n",
      " [6 7 8]]\n"
     ]
    }
   ],
   "source": [
    "import numpy as np  # required for Q2–Q5\n",
    "# Q2: Create a 2x3 array with values from 1 to 6, print its shape, and add 2 to every element.\n",
    "array_2x3 = np.array([[1, 2, 3], [4, 5, 6]])\n",
    "print(array_2x3.shape)\n",
    "array_2x3_plus_2 = array_2x3 + 2\n",
    "print(array_2x3_plus_2)\n",
    "\n"
   ]
  },
  {
   "cell_type": "markdown",
   "id": "cdab3181",
   "metadata": {},
   "source": [
    "## Q3 — Random Numbers and Statistics"
   ]
  },
  {
   "cell_type": "code",
   "execution_count": 4,
   "id": "0008e24c",
   "metadata": {},
   "outputs": [
    {
     "name": "stdout",
     "output_type": "stream",
     "text": [
      "Mean: 0.45900297432508597\n",
      "Standard Deviation: 0.6334621540984487\n"
     ]
    }
   ],
   "source": [
    "# Q3: Set the NumPy random seed to 42. Generate 5 N(0,1) numbers; print mean and std.\n",
    "np.random.seed(42)\n",
    "random_numbers = np.random.normal(0, 1, 5)\n",
    "print(\"Mean:\", np.mean(random_numbers))\n",
    "print(\"Standard Deviation:\", np.std(random_numbers))\n"
   ]
  },
  {
   "cell_type": "markdown",
   "id": "8d265ef4",
   "metadata": {},
   "source": [
    "## Q4 — Plotting (matplotlib)"
   ]
  },
  {
   "cell_type": "code",
   "execution_count": 7,
   "id": "8d09632f",
   "metadata": {},
   "outputs": [
    {
     "data": {
      "image/png": "[encoded data removed]",
      "text/plain": [
       "<Figure size 640x480 with 1 Axes>"
      ]
     },
     "metadata": {},
     "output_type": "display_data"
    }
   ],
   "source": [
    "import matplotlib.pyplot as plt\n",
    "# Q4: Create a scatter plot of x=[1,2,3] and y=[4,5,6]. Label axes and set a title.\n",
    "x = [1, 2, 3]\n",
    "y = [4, 5, 6]\n",
    "plt.scatter(x, y)\n",
    "plt.xlabel('X-axis')\n",
    "plt.ylabel('Y-axis')\n",
    "plt.title('Scatter Plot of X vs Y')\n",
    "plt.show()\n"
   ]
  },
  {
   "cell_type": "markdown",
   "id": "8cef7b81",
   "metadata": {},
   "source": [
    "## Q5 — Indexing in NumPy"
   ]
  },
  {
   "cell_type": "code",
   "execution_count": 8,
   "id": "227e8232",
   "metadata": {},
   "outputs": [
    {
     "name": "stdout",
     "output_type": "stream",
     "text": [
      "Second row: [4 5 6 7]\n",
      "Elements greater than 10: [11 12 13 14 15]\n"
     ]
    }
   ],
   "source": [
    "# Q5: Create a 4x4 array with values 0 to 15. Print the second row and all elements > 10.\n",
    "array_4x4 = np.arange(16).reshape(4, 4)\n",
    "print(\"Second row:\", array_4x4[1])\n",
    "print(\"Elements greater than 10:\", array_4x4[array_4x4 >    10])\n",
    "\n"
   ]
  }
 ],
 "metadata": {
  "kernelspec": {
   "display_name": "base",
   "language": "python",
   "name": "python3"
  },
  "language_info": {
   "codemirror_mode": {
    "name": "ipython",
    "version": 3
   },
   "file_extension": ".py",
   "mimetype": "text/x-python",
   "name": "python",
   "nbconvert_exporter": "python",
   "pygments_lexer": "ipython3",
   "version": "3.12.7"
  }
 },
 "nbformat": 4,
 "nbformat_minor": 5
}
