{
 "cells": [
  {
   "cell_type": "markdown",
   "id": "76b5a32d",
   "metadata": {},
   "source": [
    "\n",
    "<h1 style=\"text-align: center;\">AAE 722 - Homework 1</h1>\n",
    "<h3 style=\"text-align: center;\">Name: Gary Sun</h3>\n",
    "<h3 style=\"text-align: center;\">Date: September 22, 2025</h3>\n",
    "\n",
    "---\n"
   ]
  },
  {
   "cell_type": "markdown",
   "id": "a6154975",
   "metadata": {},
   "source": [
    "\n",
    "# Question 1. Replicating the Regression Table\n",
    "\n",
    "### 1.1 Replicating the Regression Table\n",
    "Use the `Advertising` dataset (ISLR/ISLP). Fit `sales ~ TV + radio + newspaper` and show the regression table.\n"
   ]
  },
  {
   "cell_type": "code",
   "execution_count": 38,
   "id": "d5133eb1",
   "metadata": {},
   "outputs": [
    {
     "name": "stdout",
     "output_type": "stream",
     "text": [
      "      TV  radio  newspaper  sales\n",
      "1  230.1   37.8       69.2   22.1\n",
      "2   44.5   39.3       45.1   10.4\n",
      "3   17.2   45.9       69.3    9.3\n",
      "4  151.5   41.3       58.5   18.5\n",
      "5  180.8   10.8       58.4   12.9\n"
     ]
    },
    {
     "data": {
      "text/html": [
       "<div>\n",
       "<style scoped>\n",
       "    .dataframe tbody tr th:only-of-type {\n",
       "        vertical-align: middle;\n",
       "    }\n",
       "\n",
       "    .dataframe tbody tr th {\n",
       "        vertical-align: top;\n",
       "    }\n",
       "\n",
       "    .dataframe thead th {\n",
       "        text-align: right;\n",
       "    }\n",
       "</style>\n",
       "<table border=\"1\" class=\"dataframe\">\n",
       "  <thead>\n",
       "    <tr style=\"text-align: right;\">\n",
       "      <th></th>\n",
       "      <th>Coefficient</th>\n",
       "      <th>Std. error</th>\n",
       "      <th>t-statistic</th>\n",
       "      <th>p-value</th>\n",
       "    </tr>\n",
       "  </thead>\n",
       "  <tbody>\n",
       "    <tr>\n",
       "      <th>Intercept</th>\n",
       "      <td>2.9389</td>\n",
       "      <td>0.3119</td>\n",
       "      <td>9.4223</td>\n",
       "      <td>&lt;0.0001</td>\n",
       "    </tr>\n",
       "    <tr>\n",
       "      <th>TV</th>\n",
       "      <td>0.0458</td>\n",
       "      <td>0.0014</td>\n",
       "      <td>32.8086</td>\n",
       "      <td>&lt;0.0001</td>\n",
       "    </tr>\n",
       "    <tr>\n",
       "      <th>radio</th>\n",
       "      <td>0.1885</td>\n",
       "      <td>0.0086</td>\n",
       "      <td>21.8935</td>\n",
       "      <td>&lt;0.0001</td>\n",
       "    </tr>\n",
       "    <tr>\n",
       "      <th>newspaper</th>\n",
       "      <td>-0.0010</td>\n",
       "      <td>0.0059</td>\n",
       "      <td>-0.1767</td>\n",
       "      <td>0.8599</td>\n",
       "    </tr>\n",
       "  </tbody>\n",
       "</table>\n",
       "</div>"
      ],
      "text/plain": [
       "           Coefficient  Std. error  t-statistic  p-value\n",
       "Intercept       2.9389      0.3119       9.4223  <0.0001\n",
       "TV              0.0458      0.0014      32.8086  <0.0001\n",
       "radio           0.1885      0.0086      21.8935  <0.0001\n",
       "newspaper      -0.0010      0.0059      -0.1767   0.8599"
      ]
     },
     "metadata": {},
     "output_type": "display_data"
    }
   ],
   "source": [
    "import pandas as pd\n",
    "import statsmodels.formula.api as smf\n",
    "\n",
    "# Load Advertising dataset from URL\n",
    "url = \"https://www.statlearning.com/s/Advertising.csv\"\n",
    "Advertising = pd.read_csv(url, index_col=0)\n",
    "print(Advertising.head(5))\n",
    "\n",
    "model = smf.ols(\"sales ~ TV + radio + newspaper\", data=Advertising).fit()\n",
    "results_df = pd.DataFrame({\n",
    "    \"Coefficient\": model.params,\n",
    "    \"Std. error\": model.bse,\n",
    "    \"t-statistic\": model.tvalues,\n",
    "    \"p-value\": model.pvalues\n",
    "})\n",
    "results_df = results_df.round(4)\n",
    "def format_p_value(p):\n",
    "    if p <= 0.0001:\n",
    "        return \"<0.0001\"\n",
    "    else:\n",
    "        return f\"{p:.4f}\"\n",
    "results_df[\"p-value\"] = model.pvalues.apply(format_p_value)\n",
    "\n",
    "display(results_df)\n"
   ]
  },
  {
   "cell_type": "markdown",
   "id": "6974ecd6",
   "metadata": {},
   "source": [
    "### 1.2 Hypotheses for the p-values\n",
    "\n",
    "For each predictor, we test the null hypothesis that the corresponding regression coefficient equals zero (no effect on sales). Formally:\n",
    "\n",
    "- **TV**  \n",
    "  - H₀: β_TV = 0 (TV advertising has no effect on sales)  \n",
    "  - H₁: β_TV ≠ 0 (TV advertising affects sales)  \n",
    "  - Interpretation: Under H₀, increasing TV ad spending would not change product sales. From the regression results, the p-value is < 0.0001, so we strongly reject H₀. This indicates that TV advertising has a significant positive effect on sales.\n",
    "\n",
    "- **Radio**  \n",
    "  - H₀: β_radio = 0 (Radio advertising has no effect on sales)  \n",
    "  - H₁: β_radio ≠ 0 (Radio advertising affects sales)  \n",
    "  - Interpretation: Under H₀, spending more on radio ads would not impact sales. The regression shows a p-value < 0.0001, so we strongly reject H₀. Radio advertising is also a significant and positive predictor of sales.\n",
    "\n",
    "- **Newspaper**  \n",
    "  - H₀: β_newspaper = 0 (Newspaper advertising has no effect on sales)  \n",
    "  - H₁: β_newspaper ≠ 0 (Newspaper advertising affects sales)  \n",
    "  - Interpretation: Under H₀, newspaper ad spending has no relationship with sales. The regression output gives a high p-value (≈ 0.86), so we fail to reject H₀. This suggests that newspaper advertising does not have a statistically significant effect on sales in this dataset.\n"
   ]
  },
  {
   "cell_type": "markdown",
   "id": "034b9f6e",
   "metadata": {},
   "source": [
    "### 1.3 Interpreting the Results\n",
    "\n",
    "Based on the regression results:\n",
    "\n",
    "- **TV advertising** has a strong and statistically significant positive effect on sales. The coefficient (≈ 0.046) means that, holding other factors constant, each additional unit of TV advertising spending is associated with an increase of about 0.046 units in sales. The p-value < 0.0001 confirms that this effect is highly significant.\n",
    "\n",
    "- **Radio advertising** also shows a strong, positive, and statistically significant relationship with sales. The coefficient (≈ 0.189) indicates that each additional unit of radio spending is associated with an increase of about 0.189 units in sales. Again, the p-value < 0.0001 confirms significance.\n",
    "\n",
    "- **Newspaper advertising**, however, does not show a statistically significant relationship with sales. The coefficient is very close to zero (≈ –0.001), and the p-value (≈ 0.86) is far above conventional significance levels. This suggests that newspaper spending does not meaningfully predict sales in this dataset.\n",
    "\n",
    "**Conclusion:** Sales are strongly driven by TV and radio advertising, while newspaper advertising appears to have no measurable effect.\n"
   ]
  },
  {
   "cell_type": "markdown",
   "id": "b2decfe4",
   "metadata": {},
   "source": [
    "# Question 2: K-Nearest Neighbors (KNN)\n",
    "\n",
    "The **K-Nearest Neighbors (KNN)** method is a non-parametric, instance-based learning approach. Its central idea is that predictions for a new observation are made based on the outcomes of the *k* most similar observations in the training data.\n",
    "\n",
    "#### KNN Classifier\n",
    "- **How it works**: For classification, KNN looks at the *k* nearest neighbors (based on a distance metric, usually Euclidean distance). The new observation is assigned to the class that appears most frequently among those neighbors.  \n",
    "- **Example**: If most of the nearest neighbors prefer *Coke* rather than *Tea*, the new person is predicted to prefer *Coke*.  \n",
    "- **Key idea**: Decision is made by **majority vote**.\n",
    "\n",
    "#### KNN Regressor\n",
    "- **How it works**: For regression, KNN again finds the *k* nearest neighbors. Instead of voting, it predicts the outcome as the **average (or weighted average)** of the neighbors’ values.  \n",
    "- **Example**: To predict a new person’s income, KNN takes the average income of the most similar *k* individuals.  \n",
    "- **Key idea**: Prediction is made by **averaging**.\n",
    "\n",
    "#### Differences\n",
    "| Aspect | KNN Classification | KNN Regression |\n",
    "|--------|--------------------|----------------|\n",
    "| Output | A **category/label** (e.g., Coke vs. Tea) | A **continuous value** (e.g., income, house price) |\n",
    "| Rule   | Majority vote among neighbors | Average value of neighbors |\n",
    "| Error metric | Classification error rate | Mean squared error (MSE), RMSE |\n",
    "\n",
    "#### Additional Notes\n",
    "- **Choice of k**: Small *k* can make the model too sensitive (high variance), while large *k* can smooth out important local patterns (high bias).  \n",
    "- **Feature scaling**: Important, since KNN relies on distance. Variables with large scales can dominate the distance calculation.  \n",
    "- **“Lazy” algorithm**: KNN does not train a model in advance; it simply stores the data and defers computation until prediction time.\n"
   ]
  },
  {
   "cell_type": "markdown",
   "id": "aab4362b",
   "metadata": {},
   "source": [
    "# 3. Analysis of Linear vs. Cubic Regression Models\n",
    "\n",
    "### (a) Training RSS when the true relationship is linear\n",
    "If the true relationship between \\(X\\) and \\(Y\\) is linear, the linear model is the correct specification.  \n",
    "The cubic model is more flexible because it includes the linear term as well as higher-order terms.  \n",
    "On the training data, a more complex model can always fit the data at least as well as the simpler one.  \n",
    "Therefore, the training RSS of the cubic regression will be **less than or equal to** the training RSS of the linear regression.\n",
    "\n",
    "### (b) Test RSS when the true relationship is linear\n",
    "On the test data, the linear model is expected to perform better because it matches the true data-generating process.  \n",
    "The cubic model may overfit the noise in the training set, which increases test error.  \n",
    "Thus, the **test RSS of the linear model is expected to be lower** than that of the cubic regression.\n",
    "\n",
    "### (c) Training RSS when the true relationship is not linear\n",
    "If the true relationship is not linear, the linear model is misspecified.  \n",
    "The cubic regression is more flexible and can capture at least some of the nonlinearity in the data.  \n",
    "Therefore, the training RSS of the cubic regression will be **less than or equal to** the training RSS of the linear regression.\n",
    "\n",
    "### (d) Test RSS when the true relationship is not linear\n",
    "For the test data, the outcome depends on how nonlinear the true relationship is.  \n",
    "- If the true function is strongly nonlinear, the cubic regression is likely to generalize better and achieve a lower test RSS.  \n",
    "- If the true function is only mildly nonlinear (close to linear), the cubic regression may overfit the training data and perform worse on the test set.  \n",
    "\n",
    "Therefore, when the true relationship is not linear, the comparison of test RSS between the two models is **uncertain** and depends on the degree of nonlinearity.\n"
   ]
  },
  {
   "cell_type": "markdown",
   "id": "4dde8730",
   "metadata": {},
   "source": [
    "\n",
    "# Question 4. t-statistic without intercept\n"
   ]
  },
  {
   "cell_type": "code",
   "execution_count": 79,
   "id": "3ee74ec2",
   "metadata": {},
   "outputs": [],
   "source": [
    "import numpy as np, pandas as pd\n",
    "import statsmodels.api as sm\n",
    "import statsmodels.formula.api as smf\n",
    "\n",
    "rng = np.random.default_rng(1)\n",
    "x = rng.normal(size=100)\n",
    "y = 2 * x + rng.normal(size=100)\n",
    "\n",
    "df = pd.DataFrame({\"x\": x, \"y\": y})"
   ]
  },
  {
   "cell_type": "code",
   "execution_count": 85,
   "id": "857efa3c-d4ad-4c0b-b3d1-2e1288b83fb6",
   "metadata": {},
   "outputs": [
    {
     "data": {
      "text/html": [
       "<div>\n",
       "<style scoped>\n",
       "    .dataframe tbody tr th:only-of-type {\n",
       "        vertical-align: middle;\n",
       "    }\n",
       "\n",
       "    .dataframe tbody tr th {\n",
       "        vertical-align: top;\n",
       "    }\n",
       "\n",
       "    .dataframe thead th {\n",
       "        text-align: right;\n",
       "    }\n",
       "</style>\n",
       "<table border=\"1\" class=\"dataframe\">\n",
       "  <thead>\n",
       "    <tr style=\"text-align: right;\">\n",
       "      <th></th>\n",
       "      <th>Coefficient</th>\n",
       "      <th>Std. error</th>\n",
       "      <th>t-statistic</th>\n",
       "      <th>p-value</th>\n",
       "    </tr>\n",
       "  </thead>\n",
       "  <tbody>\n",
       "    <tr>\n",
       "      <th>x (no intercept)</th>\n",
       "      <td>1.9762</td>\n",
       "      <td>0.1169</td>\n",
       "      <td>16.8984</td>\n",
       "      <td>&lt;0.0001</td>\n",
       "    </tr>\n",
       "  </tbody>\n",
       "</table>\n",
       "</div>"
      ],
      "text/plain": [
       "                  Coefficient  Std. error  t-statistic  p-value\n",
       "x (no intercept)       1.9762      0.1169      16.8984  <0.0001"
      ]
     },
     "metadata": {},
     "output_type": "display_data"
    }
   ],
   "source": [
    "# Q4(a): y ~ x, no intercept \n",
    "m_4a = smf.ols(\"y ~ 0 + x\", data=df).fit()\n",
    "\n",
    "coef = m_4a.params[\"x\"]\n",
    "se   = m_4a.bse[\"x\"]\n",
    "tval = m_4a.tvalues[\"x\"]\n",
    "pval = m_4a.pvalues[\"x\"]\n",
    "\n",
    "def fmt_p(p):\n",
    "    return \"<0.0001\" if p <= 1e-4 else f\"{p:.4f}\"\n",
    "\n",
    "res_4a = pd.DataFrame({\n",
    "    \"Coefficient\":[coef],\n",
    "    \"Std. error\":[se],\n",
    "    \"t-statistic\":[tval],\n",
    "    \"p-value\":[fmt_p(pval)]\n",
    "}, index=[\"x (no intercept)\"]).round(4)\n",
    "\n",
    "display(res_4a)"
   ]
  },
  {
   "cell_type": "markdown",
   "id": "02934999",
   "metadata": {},
   "source": [
    "### 4(a) Interpretation\n",
    "\n",
    "The estimated coefficient is $\\hat{\\beta} = 1.9762$ with a standard error of $0.1169$.  \n",
    "The corresponding $t$-statistic is $16.8984$, and the associated $p$-value is less than $0.0001$.\n",
    "\n",
    "This very small $p$-value means we **strongly reject** the null hypothesis $H_0: \\beta = 0$.  \n",
    "In other words, $x$ is a highly significant predictor of $y$ in this setting.\n",
    "\n",
    "Overall, the results are consistent with the data-generating process  $ y = 2x + \\varepsilon, $ confirming that the slope is significantly different from zero and very close to the true value.\n"
   ]
  },
  {
   "cell_type": "code",
   "execution_count": 87,
   "id": "27d857b9-55fa-4fbd-8e1c-75f5a4d0283f",
   "metadata": {},
   "outputs": [
    {
     "data": {
      "text/html": [
       "<div>\n",
       "<style scoped>\n",
       "    .dataframe tbody tr th:only-of-type {\n",
       "        vertical-align: middle;\n",
       "    }\n",
       "\n",
       "    .dataframe tbody tr th {\n",
       "        vertical-align: top;\n",
       "    }\n",
       "\n",
       "    .dataframe thead th {\n",
       "        text-align: right;\n",
       "    }\n",
       "</style>\n",
       "<table border=\"1\" class=\"dataframe\">\n",
       "  <thead>\n",
       "    <tr style=\"text-align: right;\">\n",
       "      <th></th>\n",
       "      <th>Coefficient</th>\n",
       "      <th>Std. error</th>\n",
       "      <th>t-statistic</th>\n",
       "      <th>p-value</th>\n",
       "    </tr>\n",
       "  </thead>\n",
       "  <tbody>\n",
       "    <tr>\n",
       "      <th>y (no intercept)</th>\n",
       "      <td>0.3757</td>\n",
       "      <td>0.0222</td>\n",
       "      <td>16.8984</td>\n",
       "      <td>&lt;0.0001</td>\n",
       "    </tr>\n",
       "  </tbody>\n",
       "</table>\n",
       "</div>"
      ],
      "text/plain": [
       "                  Coefficient  Std. error  t-statistic  p-value\n",
       "y (no intercept)       0.3757      0.0222      16.8984  <0.0001"
      ]
     },
     "metadata": {},
     "output_type": "display_data"
    }
   ],
   "source": [
    "# Q4(b): x ~ y, no intercept \n",
    "m_4b = smf.ols(\"x ~ 0 + y\", data=df).fit()\n",
    "\n",
    "coef_b = m_4b.params[\"y\"]\n",
    "se_b   = m_4b.bse[\"y\"]\n",
    "tval_b = m_4b.tvalues[\"y\"]\n",
    "pval_b = m_4b.pvalues[\"y\"]\n",
    "\n",
    "res_4b = pd.DataFrame({\n",
    "    \"Coefficient\":[coef_b],\n",
    "    \"Std. error\":[se_b],\n",
    "    \"t-statistic\":[tval_b],\n",
    "    \"p-value\":[fmt_p(pval_b)]\n",
    "}, index=[\"y (no intercept)\"]).round(4)\n",
    "\n",
    "display(res_4b)"
   ]
  },
  {
   "cell_type": "markdown",
   "id": "dc28a530",
   "metadata": {},
   "source": [
    "### 4(b) Report\n",
    "\n",
    "The estimated coefficient is $\\hat{\\beta} = 0.3757,$with standard error $SE(\\hat{\\beta}) = 0.0222,$ t-statistic  $t = 16.8984,$ and p-value $p < 0.0001.$\n",
    "\n",
    "Since the p-value is extremely small, we reject the null hypothesis \n",
    "\n",
    "$$H_0: \\beta = 0.$$\n",
    "\n",
    "This indicates that $y$ is a statistically significant predictor of $x$ when no intercept is included.  \n",
    "However, the estimated slope (0.376) is kind of different from the true inverse slope (expected value $1/2 = 0.5$), showing that reversing the regression (predicting $x$ from $y$) does not recover the same relationship as predicting $y$ from $x$.\n"
   ]
  },
  {
   "cell_type": "markdown",
   "id": "b6ff9cd4-7f7b-4c73-9e96-94723d990c84",
   "metadata": {},
   "source": [
    "### 4(c) Relationship between (a) and (b)\n",
    "\n",
    "In part (a), we regressed $y$ on $x$ and obtained an estimate of \n",
    "\n",
    "$$\\hat{\\beta}_{yx} \\approx 1.98,$$ \n",
    "\n",
    "which is close to the true slope of $2$ in the data-generating process.  \n",
    "\n",
    "In part (b), we reversed the regression and regressed $x$ on $y$, obtaining \n",
    "\n",
    "$$\\hat{\\beta}_{xy} \\approx 0.38.$$\n",
    "\n",
    "Although one might expect these coefficients to be exact reciprocals (i.e., $2$ vs. $0.5$), this is not the case in practice. Ordinary Least Squares (OLS) assumes that the predictor is measured without error, but when we switch the roles of $x$ and $y$, the error structure changes.  \n",
    "\n",
    "Therefore, the two slopes are related but not reciprocals of each other. Both regressions show a strong linear association, but the interpretation depends on which variable is treated as the predictor.\n"
   ]
  },
  {
   "cell_type": "markdown",
   "id": "ce3905f5",
   "metadata": {},
   "source": [
    "### 4(d) Algebraic form of the $t$-statistic (no intercept)\n",
    "\n",
    "Let\n",
    "\n",
    "$$\n",
    "S_{xx}=\\sum_{i=1}^n x_i^2,\\quad\n",
    "S_{yy}=\\sum_{i=1}^n y_i^2,\\quad\n",
    "S_{xy}=\\sum_{i=1}^n x_i y_i .\n",
    "$$\n",
    "\n",
    "For regression **through the origin** (no intercept), the OLS slope estimator and its standard error are\n",
    "\n",
    "$$\n",
    "\\hat{\\beta}=\\frac{S_{xy}}{S_{xx}},\\qquad\n",
    "SE(\\hat{\\beta})=\\sqrt{\\frac{\\hat{\\sigma}^2}{S_{xx}}},\\qquad\n",
    "\\hat{\\sigma}^2=\\frac{\\mathrm{RSS}}{n-1},\n",
    "$$\n",
    "\n",
    "where\n",
    "\n",
    "$$\n",
    "\\mathrm{RSS}=\\sum_{i=1}^n (y_i-\\hat{\\beta} x_i)^2 .\n",
    "$$\n",
    "\n",
    "**Step 1. Expand RSS.**\n",
    "\n",
    "$$\n",
    "\\mathrm{RSS}\n",
    "=\\sum (y_i^2-2\\hat{\\beta} x_i y_i+\\hat{\\beta}^2 x_i^2)\n",
    "= S_{yy}-2\\hat{\\beta} S_{xy}+\\hat{\\beta}^2 S_{xx}.\n",
    "$$\n",
    "\n",
    "**Step 2. Substitute $\\hat{\\beta}=S_{xy}/S_{xx}$.**\n",
    "\n",
    "$$\n",
    "\\mathrm{RSS}\n",
    "= S_{yy}-2\\frac{S_{xy}}{S_{xx}}S_{xy}\n",
    " +\\left(\\frac{S_{xy}}{S_{xx}}\\right)^2 S_{xx}\n",
    "= S_{yy}-\\frac{S_{xy}^2}{S_{xx}}.\n",
    "$$\n",
    "\n",
    "Hence\n",
    "\n",
    "$$\n",
    "\\hat{\\sigma}^2=\\frac{1}{n-1}\\!\\left(S_{yy}-\\frac{S_{xy}^2}{S_{xx}}\\right),\n",
    "\\qquad\n",
    "SE(\\hat{\\beta})\n",
    "=\\sqrt{\\frac{1}{n-1}\\cdot\\frac{S_{yy}-S_{xy}^2/S_{xx}}{S_{xx}} }.\n",
    "$$\n",
    "\n",
    "**Step 3. Form the $t$-statistic.**\n",
    "\n",
    "$$\n",
    "\\begin{aligned}\n",
    "t\n",
    "&= \\frac{\\hat{\\beta}}{SE(\\hat{\\beta})}\n",
    "= \\frac{S_{xy}/S_{xx}}\n",
    "{\\sqrt{\\dfrac{1}{n-1}\\cdot\\dfrac{S_{yy}-S_{xy}^2/S_{xx}}{S_{xx}}}} \\\\\n",
    "&= \\frac{\\sqrt{n-1}\\,S_{xy}}{\\sqrt{S_{xx}S_{yy}-S_{xy}^2}}.\n",
    "\\end{aligned}\n",
    "$$\n",
    "\n",
    "So\n",
    "\n",
    "$$\n",
    "\\boxed{t=\\frac{\\sqrt{n-1}\\,\\sum_{i=1}^n x_i y_i}{\\sqrt{\\left(\\sum_{i=1}^n x_i^2\\right)\\left(\\sum_{i=1}^n y_i^2\\right)-\\left(\\sum_{i=1}^n x_i y_i\\right)^2}}}.\n",
    "$$\n",
    "\n",
    "*Note:* df $=n-1$ because there is no intercept.\n"
   ]
  },
  {
   "cell_type": "code",
   "execution_count": 127,
   "id": "dcdd52b0",
   "metadata": {},
   "outputs": [
    {
     "name": "stdout",
     "output_type": "stream",
     "text": [
      "beta_hat (Eq. 3.38): 1.9762423774420508\n",
      "t (beta/SE):         16.898417063035097\n",
      "t (algebraic form):  16.898417063035094\n",
      "|t1 - t2| = 3.552713678800501e-15\n"
     ]
    }
   ],
   "source": [
    "# Q4(d): verify Eq. 3.38 and algebraic t \n",
    "n   = len(df)\n",
    "sxy = np.sum(x*y)\n",
    "sxx = np.sum(x**2)\n",
    "syy = np.sum(y**2)\n",
    "\n",
    "beta_hat = sxy / sxx                    # Eq. 3.38\n",
    "resid    = y - x*beta_hat\n",
    "sigma2   = np.sum(resid**2) / (n-1)     # no-intercept -> df = n-1\n",
    "SE_beta  = np.sqrt(sigma2) / np.sqrt(sxx)\n",
    "t1       = beta_hat / SE_beta           # conventional\n",
    "\n",
    "t2 = (np.sqrt(n-1)*sxy) / np.sqrt(sxx*syy - sxy**2)  # algebraic form\n",
    "\n",
    "print(\"beta_hat (Eq. 3.38):\", beta_hat)\n",
    "print(\"t (beta/SE):        \", t1)\n",
    "print(\"t (algebraic form): \", t2)\n",
    "print(\"|t1 - t2| =\", abs(t1 - t2))\n"
   ]
  },
  {
   "cell_type": "markdown",
   "id": "ae47c8b2",
   "metadata": {},
   "source": [
    "\n",
    "### 4(e) Show $t_{y\\sim x} = t_{x\\sim y}$ (no intercept)\n",
    "Using the algebraic form above, swap \\(x\\) and \\(y\\) and note the expression is symmetric; hence the \\(t\\)-statistics are equal. We can also confirm numerically below.\n"
   ]
  },
  {
   "cell_type": "code",
   "execution_count": 130,
   "id": "3bbecbb0",
   "metadata": {},
   "outputs": [
    {
     "name": "stdout",
     "output_type": "stream",
     "text": [
      "t for x~y (conventional): 16.898417063035104\n",
      "t (algebraic, swapped):   16.898417063035094\n",
      "difference |t_xy1 - t_xy2| = 1.0658141036401503e-14\n"
     ]
    }
   ],
   "source": [
    "# t for x ~ y\n",
    "beta_xy = np.sum(x * y) / np.sum(y**2)\n",
    "resid_xy = x - y * beta_xy\n",
    "sigma2_xy = np.sum(resid_xy**2) / (len(x) - 1)\n",
    "SE_xy = np.sqrt(sigma2_xy) / np.sqrt(np.sum(y**2))\n",
    "t_xy1 = beta_xy / SE_xy\n",
    "\n",
    "# algebraic form after swapping (same numeric value)\n",
    "sxy = np.sum(x * y)\n",
    "sxx = np.sum(x**2)\n",
    "syy = np.sum(y**2)\n",
    "t_xy2 = (np.sqrt(len(x) - 1) * sxy) / np.sqrt(sxx * syy - sxy**2)\n",
    "\n",
    "print(\"t for x~y (conventional):\", t_xy1)\n",
    "print(\"t (algebraic, swapped):  \", t_xy2)\n",
    "print(\"difference |t_xy1 - t_xy2| =\", abs(t_xy1 - t_xy2))\n"
   ]
  },
  {
   "cell_type": "code",
   "execution_count": 132,
   "id": "a6f6fcd0",
   "metadata": {},
   "outputs": [
    {
     "name": "stdout",
     "output_type": "stream",
     "text": [
      "t-stat for y~x (coef x): 16.734055202403045\n",
      "t-stat for x~y (coef y): 16.734055202403038\n"
     ]
    }
   ],
   "source": [
    "# Q4(f): with intercept (use default formula with intercept) \n",
    "m_y_on_x = smf.ols(\"y ~ x\", data=df).fit()\n",
    "m_x_on_y = smf.ols(\"x ~ y\", data=df).fit()\n",
    "\n",
    "print(\"t-stat for y~x (coef x):\", m_y_on_x.tvalues[\"x\"])\n",
    "print(\"t-stat for x~y (coef y):\", m_x_on_y.tvalues[\"y\"])\n"
   ]
  }
 ],
 "metadata": {
  "kernelspec": {
   "display_name": "Python [conda env:base] *",
   "language": "python",
   "name": "conda-base-py"
  },
  "language_info": {
   "codemirror_mode": {
    "name": "ipython",
    "version": 3
   },
   "file_extension": ".py",
   "mimetype": "text/x-python",
   "name": "python",
   "nbconvert_exporter": "python",
   "pygments_lexer": "ipython3",
   "version": "3.12.7"
  }
 },
 "nbformat": 4,
 "nbformat_minor": 5
}
